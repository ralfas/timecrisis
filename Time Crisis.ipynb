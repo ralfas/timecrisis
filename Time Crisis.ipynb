{
 "metadata": {
  "name": "",
  "signature": "sha256:45e70b8cd860fb36a900dcb30d6cc13105d4c8b5b2310c787e2845ba95f1e637"
 },
 "nbformat": 3,
 "nbformat_minor": 0,
 "worksheets": [
  {
   "cells": [
    {
     "cell_type": "code",
     "collapsed": false,
     "input": [
      "import rrdtool as r\n",
      "from os.path import join\n",
      "from datetime import date\n",
      "import calendar\n",
      "\n",
      "data_dir = 'data'\n",
      "data_file = join(data_dir, 'streams', 'all_streams.rrd')\n",
      "data_sources = ['DEF:streams=' + data_file + ':ds[concurrent]:AVERAGE']\n",
      "\n",
      "final = date(2014, 7, 13)\n",
      "day_after_final = date(2014, 7, 14)\n",
      "\n",
      "print calendar.timegm(final.timetuple())\n",
      "print calendar.timegm(day_after_final.timetuple())\n",
      "\n",
      "r.fetch(data_file,\n",
      "        'AVERAGE',\n",
      "        '-s', calendar.timegm(final.timetuple()),\n",
      "        '-e', calendar.timegm(day_after_final.timetuple()))"
     ],
     "language": "python",
     "metadata": {},
     "outputs": [
      {
       "output_type": "stream",
       "stream": "stdout",
       "text": [
        "1405209600\n",
        "1405296000\n"
       ]
      },
      {
       "ename": "TypeError",
       "evalue": "argument 3 must be string or list of strings",
       "output_type": "pyerr",
       "traceback": [
        "\u001b[1;31m---------------------------------------------------------------------------\u001b[0m\n\u001b[1;31mTypeError\u001b[0m                                 Traceback (most recent call last)",
        "\u001b[1;32m<ipython-input-41-7fe8373cf408>\u001b[0m in \u001b[0;36m<module>\u001b[1;34m()\u001b[0m\n\u001b[0;32m     16\u001b[0m r.fetch(data_file, 'AVERAGE',\n\u001b[0;32m     17\u001b[0m         \u001b[1;34m'-s'\u001b[0m\u001b[1;33m,\u001b[0m \u001b[0mcalendar\u001b[0m\u001b[1;33m.\u001b[0m\u001b[0mtimegm\u001b[0m\u001b[1;33m(\u001b[0m\u001b[0mfinal\u001b[0m\u001b[1;33m.\u001b[0m\u001b[0mtimetuple\u001b[0m\u001b[1;33m(\u001b[0m\u001b[1;33m)\u001b[0m\u001b[1;33m)\u001b[0m\u001b[1;33m,\u001b[0m\u001b[1;33m\u001b[0m\u001b[0m\n\u001b[1;32m---> 18\u001b[1;33m         '-e', calendar.timegm(day_after_final.timetuple()))\n\u001b[0m",
        "\u001b[1;31mTypeError\u001b[0m: argument 3 must be string or list of strings"
       ]
      }
     ],
     "prompt_number": 41
    },
    {
     "cell_type": "code",
     "collapsed": false,
     "input": [],
     "language": "python",
     "metadata": {},
     "outputs": []
    }
   ],
   "metadata": {}
  }
 ]
}