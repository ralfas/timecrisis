{
 "metadata": {
  "name": "",
  "signature": "sha256:a4c90bed217b0d848d13e89ced443f85369f6be09be14c5ddf80455d6729768b"
 },
 "nbformat": 3,
 "nbformat_minor": 0,
 "worksheets": [
  {
   "cells": [
    {
     "cell_type": "code",
     "collapsed": false,
     "input": [
      "import rrdtool as r\n",
      "from os.path import join\n",
      "from datetime import date\n",
      "import calendar\n",
      "\n",
      "data_dir = 'data'\n",
      "data_file = join(data_dir, 'streams', 'all_streams.rrd')\n",
      "\n",
      "#data_sources = ['DEF:streams=' + data_file + ':ds[concurrent]:AVERAGE']\n",
      "\n",
      "final = calendar.timegm(date(2014, 7, 13).timetuple())\n",
      "day_after_final = calendar.timegm(date(2014, 7, 14).timetuple())\n",
      "\n",
      "def get_concurrent(rrd_data):\n",
      "    \n",
      "    return [data_point_set[1] for data_point_set in rrd_data[2]]\n",
      "\n",
      "def get_rrd_data(data_file, CF, resolution, start_time, end_time):\n",
      "    \n",
      "    return r.fetch(data_file, CF, '-r ' + str(resolution), '-s ' + str(start_time), '-e ' + str(end_time))\n",
      "\n",
      "final_data = get_rrd_data(data_file, 'AVERAGE', 1, final, day_after_final)\n",
      "\n",
      "concurrents_in_final = get_concurrent(final_data)"
     ],
     "language": "python",
     "metadata": {},
     "outputs": [],
     "prompt_number": 32
    },
    {
     "cell_type": "code",
     "collapsed": false,
     "input": [
      "%matplotlib inline\n",
      "\n",
      "import matplotlib.pyplot as plt\n",
      "import numpy as np\n",
      "\n",
      "x = range(0, len(concurrents_in_final) + 1)\n",
      "plot_data = [0] + concurrents_in_final\n",
      "\n",
      "plt.plot(x, plot_data)"
     ],
     "language": "python",
     "metadata": {},
     "outputs": [
      {
       "metadata": {},
       "output_type": "pyout",
       "prompt_number": 33,
       "text": [
        "[<matplotlib.lines.Line2D at 0x47cbed0>]"
       ]
      },
      {
       "metadata": {},
       "output_type": "display_data",
       "png": "[encoded data removed]",
       "text": [
        "<matplotlib.figure.Figure at 0x4459e50>"
       ]
      }
     ],
     "prompt_number": 33
    }
   ],
   "metadata": {}
  }
 ]
}